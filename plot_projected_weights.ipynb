{
 "cells": [
  {
   "cell_type": "code",
   "execution_count": 11,
   "id": "modular-continuity",
   "metadata": {},
   "outputs": [],
   "source": [
    "import itertools\n",
    "import glob\n",
    "import os\n",
    "\n",
    "import matplotlib.pylab as plt\n",
    "import numpy as np\n",
    "\n",
    "from continuous_net_jax.convergence import *\n",
    "from continuous_net_jax.basis_functions import *\n",
    "from continuous_net_jax.basis_functions_plotting import *"
   ]
  },
  {
   "cell_type": "code",
   "execution_count": 2,
   "id": "chubby-position",
   "metadata": {},
   "outputs": [],
   "source": [
    "DIR = \"../runs_cifar10_e/\"\n",
    "paths = glob.glob(f\"{DIR}/*\")"
   ]
  },
  {
   "cell_type": "code",
   "execution_count": 3,
   "id": "sticky-greenhouse",
   "metadata": {},
   "outputs": [
    {
     "data": {
      "text/plain": [
       "['../runs_cifar10_e/ContinuousImageClassifier_alpha=1,hidden=16,n_classes=10,n_step=1,scheme=Euler,n_basis=1,basis=piecewise_constant,norm=BatchNorm-opt-flax,kernel_init=kaiming_out,training=True_20210514-045518',\n",
       " '../runs_cifar10_e/ContinuousImageClassifier_alpha=1,hidden=16,n_classes=10,n_step=1,scheme=RK4,n_basis=1,basis=piecewise_constant,norm=BatchNorm-opt-flax,kernel_init=kaiming_out,training=True_20210514-060012',\n",
       " '../runs_cifar10_e/ContinuousImageClassifier_alpha=1,hidden=16,n_classes=10,n_step=1,scheme=Euler,n_basis=1,basis=piecewise_constant,norm=BatchNorm-opt-flax,kernel_init=kaiming_out,training=True_20210514-050509']"
      ]
     },
     "execution_count": 3,
     "metadata": {},
     "output_type": "execute_result"
    }
   ],
   "source": [
    "paths"
   ]
  },
  {
   "cell_type": "code",
   "execution_count": 4,
   "id": "vital-lending",
   "metadata": {},
   "outputs": [],
   "source": [
    "ct = ConvergenceTester(paths[2])"
   ]
  },
  {
   "cell_type": "code",
   "execution_count": 35,
   "id": "wrong-grenada",
   "metadata": {},
   "outputs": [],
   "source": [
    "sel = lambda w : w['params']['Conv_0']['kernel'][0,0,0,0]\n",
    "def plot_final(ct):\n",
    "    w = list(map(sel, ct.params['ContinuousNet_0']['ode_params']))\n",
    "    PLOT[ct.eval_model.basis](w)\n",
    "def plot_projected(ct, basis, n_basis):\n",
    "    _, params, _ = ct.project(basis, n_basis)\n",
    "    w = list(map(sel, params['ContinuousNet_0']['ode_params']))\n",
    "    PLOT[basis](w)"
   ]
  },
  {
   "cell_type": "code",
   "execution_count": 38,
   "id": "material-first",
   "metadata": {},
   "outputs": [
    {
     "data": {
      "image/png": "[encoded data removed]",
      "text/plain": [
       "<Figure size 432x288 with 4 Axes>"
      ]
     },
     "metadata": {
      "needs_background": "light"
     },
     "output_type": "display_data"
    }
   ],
   "source": [
    "plt.figure()\n",
    "plt.subplot(411)\n",
    "plot_final(ct)\n",
    "plt.subplot(412)\n",
    "plot_projected(ct, 'piecewise_constant', 2)\n",
    "plt.subplot(413)\n",
    "plot_projected(ct, 'fem_linear', 4)\n",
    "plt.subplot(414)\n",
    "plot_projected(ct, 'piecewise_linear', 4)"
   ]
  }
 ],
 "metadata": {
  "kernelspec": {
   "display_name": "Python [conda env:root] *",
   "language": "python",
   "name": "conda-root-py"
  },
  "language_info": {
   "codemirror_mode": {
    "name": "ipython",
    "version": 3
   },
   "file_extension": ".py",
   "mimetype": "text/x-python",
   "name": "python",
   "nbconvert_exporter": "python",
   "pygments_lexer": "ipython3",
   "version": "3.7.10"
  }
 },
 "nbformat": 4,
 "nbformat_minor": 5
}
